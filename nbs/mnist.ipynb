{
 "metadata": {
  "name": "",
  "signature": "sha256:862ecd12c5a608dc93aff8f340ecb2bed110a449e10bbe5f73549c69373c40aa"
 },
 "nbformat": 3,
 "nbformat_minor": 0,
 "worksheets": [
  {
   "cells": [
    {
     "cell_type": "code",
     "collapsed": false,
     "input": [
      "import numpy as np\n",
      "import scipy as sp\n",
      "from scipy.sparse import csc_matrix\n",
      "import matplotlib.pyplot as plt\n",
      "%matplotlib inline\n",
      "import gzip\n",
      "import cPickle as pickle\n",
      "from datetime import datetime\n",
      "from scipy.optimize import approx_fprime\n",
      "import sys\n",
      "sys.path.append('/Users/Colin/Documents/Research/code/Sum-of-Functions-Optimizer/')\n",
      "from sfo import SFO"
     ],
     "language": "python",
     "metadata": {},
     "outputs": [],
     "prompt_number": 154
    },
    {
     "cell_type": "markdown",
     "metadata": {},
     "source": [
      "###SNNP"
     ]
    },
    {
     "cell_type": "code",
     "collapsed": false,
     "input": [
      "# import sys\n",
      "# sys.path.append('../')\n",
      "# from layers import *from criterion import CrossEntropyCriterion\n",
      "# from network import Network\n",
      "%run ../layers.py\n",
      "%run ../criterion.py\n",
      "%run ../network.py\n",
      "%run ../optimize.py"
     ],
     "language": "python",
     "metadata": {},
     "outputs": [],
     "prompt_number": 294
    },
    {
     "cell_type": "code",
     "collapsed": false,
     "input": [
      "data = pickle.load(gzip.open('../mnist/mnist.pkl.gz', 'rb'))\n",
      "train = [data[0][0].T, data[0][1]]\n",
      "test1 = [data[1][0].T, data[1][1]]\n",
      "test2 = [data[2][0].T, data[2][1]]"
     ],
     "language": "python",
     "metadata": {},
     "outputs": [],
     "prompt_number": 288
    },
    {
     "cell_type": "code",
     "collapsed": false,
     "input": [
      "def ZCAwhiten(data, epsilon=1E-16):\n",
      "    \"\"\"\n",
      "    data : of shape (dimension, N_samples)\n",
      "    \"\"\"\n",
      "    centered = data - data.mean(0)[1,None]\n",
      "    centered = centered.T.dot(centered)\n",
      "    u,s,vt = sp.linalg.svd(centered)\n",
      "    return (u.dot(np.diag(1./np.sqrt(s+epsilon))).dot(u.T)).dot(centered)\n",
      "    "
     ],
     "language": "python",
     "metadata": {},
     "outputs": [],
     "prompt_number": 8
    },
    {
     "cell_type": "markdown",
     "metadata": {},
     "source": [
      "###Fake data"
     ]
    },
    {
     "cell_type": "code",
     "collapsed": false,
     "input": [
      "y0 = np.random.randn(2,20)*0.1+5*np.random.rand(2)[:,None]\n",
      "y1 = np.random.randn(2,20)*1.5\n",
      "t0 = np.zeros(y0.shape[1])\n",
      "t1 = np.ones(y1.shape[1])\n",
      "shuf = range(y0.shape[1]+y1.shape[1])\n",
      "np.random.shuffle(shuf)\n",
      "ts = list(np.r_[t0,t1][shuf])\n",
      "ys = np.c_[y0,y1][:,shuf]\n",
      "plt.scatter(*y0, c='r')\n",
      "plt.scatter(*y1, c='b')"
     ],
     "language": "python",
     "metadata": {},
     "outputs": [
      {
       "metadata": {},
       "output_type": "pyout",
       "prompt_number": 55,
       "text": [
        "<matplotlib.collections.PathCollection at 0x120981a50>"
       ]
      },
      {
       "metadata": {},
       "output_type": "display_data",
       "png": "[encoded data removed]",
       "text": [
        "<matplotlib.figure.Figure at 0x120981910>"
       ]
      }
     ],
     "prompt_number": 55
    },
    {
     "cell_type": "code",
     "collapsed": false,
     "input": [
      "tNN = Network()\n",
      "tNN.layers = [Linear(2,6), ReLU(), Linear(6,2), ReLU()]\n",
      "tNN.criterion = CrossEntropyCriterion()\n",
      "tNN.train = True"
     ],
     "language": "python",
     "metadata": {},
     "outputs": [],
     "prompt_number": 21
    },
    {
     "cell_type": "code",
     "collapsed": false,
     "input": [
      "Np = len(tNN.getParameters()[0])\n",
      "randp = np.random.randn(Np)\n",
      "dtest = approx_fprime(randp, tNN._getCost, 1E-6*np.ones_like(randp), ys,ts)\n",
      "tNN._setParameters(randp)\n",
      "tNN.zeroGradParameters()\n",
      "tNN.forward(ys,ts)\n",
      "tNN.backward()\n",
      "dcalc = tNN.getParameters()[1]\n",
      "1.-(dtest/dcalc)/ys.shape[1]"
     ],
     "language": "python",
     "metadata": {},
     "outputs": [
      {
       "metadata": {},
       "output_type": "pyout",
       "prompt_number": 46,
       "text": [
        "array([  3.38276868e-08,   1.42629764e-06,  -9.07756083e-07,\n",
        "        -4.66551098e-07,  -1.58222735e-06,  -3.63430269e-07,\n",
        "         1.77627509e-06,   1.59130876e-07,  -5.69538454e-07,\n",
        "        -2.58512179e-07,   2.65116072e-07,   7.52709537e-08,\n",
        "        -1.30574640e-08,  -1.65751207e-07,  -9.85200616e-07,\n",
        "        -1.16382756e-07,   1.42399430e-07,   7.24329514e-08,\n",
        "        -1.25870371e-07,  -6.05213479e-07,   8.29398369e-07,\n",
        "        -2.19744704e-07,  -2.15753503e-07,   9.95561571e-07,\n",
        "                    nan,  -3.35651521e-07,  -5.47224310e-07,\n",
        "         6.52898613e-07,   3.11558011e-07,  -7.85629220e-07,\n",
        "        -1.04742191e-06,  -2.39863404e-07])"
       ]
      }
     ],
     "prompt_number": 46
    },
    {
     "cell_type": "code",
     "collapsed": false,
     "input": [
      "clist = []\n",
      "for i in range(10000):\n",
      "    clist.append(tNN.trainInputTargets(ys, ts, 1E-2))\n",
      "plt.plot(clist, '.')"
     ],
     "language": "python",
     "metadata": {},
     "outputs": [
      {
       "metadata": {},
       "output_type": "pyout",
       "prompt_number": 54,
       "text": [
        "[<matplotlib.lines.Line2D at 0x120981150>]"
       ]
      },
      {
       "metadata": {},
       "output_type": "display_data",
       "png": "[encoded data removed]",
       "text": [
        "<matplotlib.figure.Figure at 0x120549e10>"
       ]
      }
     ],
     "prompt_number": 54
    },
    {
     "cell_type": "code",
     "collapsed": false,
     "input": [
      "tNN.forward(ys,ts)\n",
      "np.mean(np.argmax(tNN.inputlist[-2],0) == ts)"
     ],
     "language": "python",
     "metadata": {},
     "outputs": [
      {
       "metadata": {},
       "output_type": "pyout",
       "prompt_number": 57,
       "text": [
        "0.97499999999999998"
       ]
      }
     ],
     "prompt_number": 57
    },
    {
     "cell_type": "code",
     "collapsed": false,
     "input": [
      "xg, yg = np.meshgrid(np.linspace(-5,5,25), np.linspace(-5,5,25))\n",
      "xy = np.c_[xg.ravel(), yg.ravel()].T\n",
      "print xy.shape\n",
      "tNN.forward(xy, None)\n",
      "out = tNN.inputlist[-2]\n",
      "z = (-1*np.argmax(out,0))*np.max(out,0)\n",
      "plt.pcolor(xg, yg, z.reshape(25,25), cmap='Greys')"
     ],
     "language": "python",
     "metadata": {},
     "outputs": [
      {
       "output_type": "stream",
       "stream": "stdout",
       "text": [
        "(2, 625)\n"
       ]
      },
      {
       "metadata": {},
       "output_type": "pyout",
       "prompt_number": 96,
       "text": [
        "<matplotlib.collections.PolyCollection at 0x125191210>"
       ]
      },
      {
       "metadata": {},
       "output_type": "display_data",
       "png": "[encoded data removed]",
       "text": [
        "<matplotlib.figure.Figure at 0x124541a10>"
       ]
      }
     ],
     "prompt_number": 96
    },
    {
     "cell_type": "markdown",
     "metadata": {},
     "source": [
      "##Train on MNIST"
     ]
    },
    {
     "cell_type": "code",
     "collapsed": false,
     "input": [
      "def getBatch(inp, target, size):\n",
      "    n = 0\n",
      "    while True:\n",
      "        low = n*size\n",
      "        high = (n+1)*size\n",
      "        if high >= len(target): #>= important\n",
      "            n = 0\n",
      "        else:\n",
      "            n += 1\n",
      "        yield inp[:,low:high], target[low:high]"
     ],
     "language": "python",
     "metadata": {},
     "outputs": [],
     "prompt_number": 97
    },
    {
     "cell_type": "markdown",
     "metadata": {},
     "source": [
      "###ReLU network"
     ]
    },
    {
     "cell_type": "code",
     "collapsed": false,
     "input": [
      "weight_init = 'Ganguli'\n",
      "NN = Network()\n",
      "NN.layers = [Linear(784, 400, weight_init), ReLU(), Linear(400,10, weight_init), ReLU()] \n",
      "NN.criterion = CrossEntropyCriterion()\n",
      "NNp_init, _ = NN.getParameters()\n",
      "NN.training()"
     ],
     "language": "python",
     "metadata": {},
     "outputs": [],
     "prompt_number": 295
    },
    {
     "cell_type": "code",
     "collapsed": false,
     "input": [
      "SGDReLU = SGD(NN, train[0], train[1])\n",
      "SFOReLU = SFOmin(NN, train[0], train[1], conv = 1E-8)"
     ],
     "language": "python",
     "metadata": {},
     "outputs": []
    },
    {
     "cell_type": "code",
     "collapsed": false,
     "input": [
      "SFOReLU.optimizeToConv()\n",
      "plt.plot(SFOReLU.optimizer.hist_f_flat)"
     ],
     "language": "python",
     "metadata": {},
     "outputs": []
    },
    {
     "cell_type": "code",
     "collapsed": false,
     "input": [
      "SGDReLU.train(5)\n",
      "plt.plot(SGDReLU.getCostHistory())"
     ],
     "language": "python",
     "metadata": {},
     "outputs": [
      {
       "metadata": {},
       "output_type": "pyout",
       "prompt_number": 240,
       "text": [
        "[<matplotlib.lines.Line2D at 0x11b03f810>]"
       ]
      },
      {
       "metadata": {},
       "output_type": "display_data",
       "png": "[encoded data removed]",
       "text": [
        "<matplotlib.figure.Figure at 0x1216bf7d0>"
       ]
      }
     ],
     "prompt_number": 240
    },
    {
     "cell_type": "markdown",
     "metadata": {},
     "source": [
      "####Evaluate Accuracy"
     ]
    },
    {
     "cell_type": "code",
     "collapsed": false,
     "input": [
      "totalcost = NN.forward(test2[0], test2[1])\n",
      "classes = np.argmax(NN.inputlist[-1], axis=0)\n",
      "accuracy = np.mean(classes == test2[1])\n",
      "print '{} is {}% Accurate'.format(NN, accuracy*100)"
     ],
     "language": "python",
     "metadata": {},
     "outputs": []
    },
    {
     "cell_type": "markdown",
     "metadata": {},
     "source": [
      "###Sigmoid Network"
     ]
    },
    {
     "cell_type": "code",
     "collapsed": false,
     "input": [
      "weight_init = 'PReLU'\n",
      "sigNN = Network()\n",
      "sigNN.layers = [Linear(784, 400, weight_init), Sigmoid(), Linear(400,10, weight_init), Sigmoid()] \n",
      "sigNN.criterion = CrossEntropyCriterion()\n",
      "initial_p, _ = sigNN.getParameters()"
     ],
     "language": "python",
     "metadata": {},
     "outputs": [
      {
       "output_type": "stream",
       "stream": "stdout",
       "text": [
        "\n"
       ]
      }
     ],
     "prompt_number": 206
    },
    {
     "cell_type": "code",
     "collapsed": false,
     "input": [
      "SGDSig = SGD(sigNN, train[0], train[1])\n",
      "SFOSig = SFOmin(sigNN, train[0], train[1])"
     ],
     "language": "python",
     "metadata": {},
     "outputs": []
    },
    {
     "cell_type": "code",
     "collapsed": false,
     "input": [
      "SFOSig.optimizeToConv()\n",
      "plt.plot(SFOSig.optimizer.hist_f_flat)"
     ],
     "language": "python",
     "metadata": {},
     "outputs": []
    },
    {
     "cell_type": "code",
     "collapsed": false,
     "input": [
      "sigNN.forward(test2[0], test2[1])\n",
      "sigaccuracy = np.mean(np.argmax(sigNN.inputlist[-1], axis=0)== test1[1])\n",
      "print 'Network is {}% Accurate'.format(sigaccuracy*100)"
     ],
     "language": "python",
     "metadata": {},
     "outputs": []
    },
    {
     "cell_type": "code",
     "collapsed": false,
     "input": [
      "plt.hist(sigNN.getParameters()[1],bins=100);"
     ],
     "language": "python",
     "metadata": {},
     "outputs": [
      {
       "metadata": {},
       "output_type": "display_data",
       "png": "[encoded data removed]",
       "text": [
        "<matplotlib.figure.Figure at 0x1130d21d0>"
       ]
      }
     ],
     "prompt_number": 229
    },
    {
     "cell_type": "code",
     "collapsed": false,
     "input": [],
     "language": "python",
     "metadata": {},
     "outputs": []
    }
   ],
   "metadata": {}
  }
 ]
}