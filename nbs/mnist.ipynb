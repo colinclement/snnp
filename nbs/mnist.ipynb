{
 "metadata": {
  "name": "",
  "signature": "sha256:0285f744c0b4e1c9e64e450261e1a9f522ffe7a4ad585927085ce43f7dd0f567"
 },
 "nbformat": 3,
 "nbformat_minor": 0,
 "worksheets": [
  {
   "cells": [
    {
     "cell_type": "code",
     "collapsed": false,
     "input": [
      "import numpy as np\n",
      "import scipy as sp\n",
      "import matplotlib.pyplot as plt\n",
      "%matplotlib inline\n",
      "import gzip\n",
      "import cPickle as pickle\n",
      "from datetime import datetime\n",
      "from scipy.optimize import approx_fprime"
     ],
     "language": "python",
     "metadata": {},
     "outputs": [],
     "prompt_number": 3
    },
    {
     "cell_type": "markdown",
     "metadata": {},
     "source": [
      "###SNNP"
     ]
    },
    {
     "cell_type": "code",
     "collapsed": false,
     "input": [
      "import sys\n",
      "sys.path.append('../')\n",
      "from layers import *\n",
      "from criterion import CrossEntropyCriterion\n",
      "from network import Network\n",
      "from optimize import *\n",
      "from randSVD import *\n",
      "# %run ../layers.py\n",
      "# %run ../criterion.py\n",
      "# %run ../network.py\n",
      "# %run ../optimize.py"
     ],
     "language": "python",
     "metadata": {},
     "outputs": [],
     "prompt_number": 44
    },
    {
     "cell_type": "code",
     "collapsed": false,
     "input": [
      "data = pickle.load(gzip.open('../mnist/mnist.pkl.gz', 'rb'))\n",
      "train = [data[0][0].T, data[0][1]]\n",
      "test1 = [data[1][0].T, data[1][1]]\n",
      "test2 = [data[2][0].T, data[2][1]]"
     ],
     "language": "python",
     "metadata": {},
     "outputs": [],
     "prompt_number": 5
    },
    {
     "cell_type": "code",
     "collapsed": false,
     "input": [
      "def ZCAwhiten(data, epsilon=1E-16):\n",
      "    \"\"\"\n",
      "    data : of shape (dimension, N_samples)\n",
      "    \"\"\"\n",
      "    centered = data - data.mean(0)[1,None]\n",
      "    centered = centered.T.dot(centered)\n",
      "    u,s,vt = sp.linalg.svd(centered)\n",
      "    return (u.dot(np.diag(1./np.sqrt(s+epsilon))).dot(u.T)).dot(centered)\n",
      "    "
     ],
     "language": "python",
     "metadata": {},
     "outputs": [],
     "prompt_number": 8
    },
    {
     "cell_type": "markdown",
     "metadata": {},
     "source": [
      "###Fake data"
     ]
    },
    {
     "cell_type": "code",
     "collapsed": false,
     "input": [
      "y0 = np.random.randn(2,20)*0.1+5*np.random.rand(2)[:,None]\n",
      "y1 = np.random.randn(2,20)*1.5\n",
      "t0 = np.zeros(y0.shape[1])\n",
      "t1 = np.ones(y1.shape[1])\n",
      "shuf = range(y0.shape[1]+y1.shape[1])\n",
      "np.random.shuffle(shuf)\n",
      "ts = list(np.r_[t0,t1][shuf])\n",
      "ys = np.c_[y0,y1][:,shuf]\n",
      "plt.scatter(*y0, c='r')\n",
      "plt.scatter(*y1, c='b')"
     ],
     "language": "python",
     "metadata": {},
     "outputs": [
      {
       "metadata": {},
       "output_type": "pyout",
       "prompt_number": 55,
       "text": [
        "<matplotlib.collections.PathCollection at 0x120981a50>"
       ]
      },
      {
       "metadata": {},
       "output_type": "display_data",
       "png": "[encoded data removed]",
       "text": [
        "<matplotlib.figure.Figure at 0x120981910>"
       ]
      }
     ],
     "prompt_number": 55
    },
    {
     "cell_type": "code",
     "collapsed": false,
     "input": [
      "tNN = Network()\n",
      "tNN.layers = [Linear(2,6), ReLU(), Linear(6,2), ReLU()]\n",
      "tNN.criterion = CrossEntropyCriterion()\n",
      "tNN.train = True"
     ],
     "language": "python",
     "metadata": {},
     "outputs": [],
     "prompt_number": 21
    },
    {
     "cell_type": "code",
     "collapsed": false,
     "input": [
      "Np = len(tNN.getParameters()[0])\n",
      "randp = np.random.randn(Np)\n",
      "dtest = approx_fprime(randp, tNN._getCost, 1E-6*np.ones_like(randp), ys,ts)\n",
      "tNN._setParameters(randp)\n",
      "tNN.zeroGradParameters()\n",
      "tNN.forward(ys,ts)\n",
      "tNN.backward()\n",
      "dcalc = tNN.getParameters()[1]\n",
      "1.-(dtest/dcalc)/ys.shape[1]"
     ],
     "language": "python",
     "metadata": {},
     "outputs": [
      {
       "metadata": {},
       "output_type": "pyout",
       "prompt_number": 46,
       "text": [
        "array([  3.38276868e-08,   1.42629764e-06,  -9.07756083e-07,\n",
        "        -4.66551098e-07,  -1.58222735e-06,  -3.63430269e-07,\n",
        "         1.77627509e-06,   1.59130876e-07,  -5.69538454e-07,\n",
        "        -2.58512179e-07,   2.65116072e-07,   7.52709537e-08,\n",
        "        -1.30574640e-08,  -1.65751207e-07,  -9.85200616e-07,\n",
        "        -1.16382756e-07,   1.42399430e-07,   7.24329514e-08,\n",
        "        -1.25870371e-07,  -6.05213479e-07,   8.29398369e-07,\n",
        "        -2.19744704e-07,  -2.15753503e-07,   9.95561571e-07,\n",
        "                    nan,  -3.35651521e-07,  -5.47224310e-07,\n",
        "         6.52898613e-07,   3.11558011e-07,  -7.85629220e-07,\n",
        "        -1.04742191e-06,  -2.39863404e-07])"
       ]
      }
     ],
     "prompt_number": 46
    },
    {
     "cell_type": "code",
     "collapsed": false,
     "input": [
      "clist = []\n",
      "for i in range(10000):\n",
      "    clist.append(tNN.trainInputTargets(ys, ts, 1E-2))\n",
      "plt.plot(clist, '.')"
     ],
     "language": "python",
     "metadata": {},
     "outputs": [
      {
       "metadata": {},
       "output_type": "pyout",
       "prompt_number": 54,
       "text": [
        "[<matplotlib.lines.Line2D at 0x120981150>]"
       ]
      },
      {
       "metadata": {},
       "output_type": "display_data",
       "png": "[encoded data removed]",
       "text": [
        "<matplotlib.figure.Figure at 0x120549e10>"
       ]
      }
     ],
     "prompt_number": 54
    },
    {
     "cell_type": "code",
     "collapsed": false,
     "input": [
      "tNN.forward(ys,ts)\n",
      "np.mean(np.argmax(tNN.inputlist[-2],0) == ts)"
     ],
     "language": "python",
     "metadata": {},
     "outputs": [
      {
       "metadata": {},
       "output_type": "pyout",
       "prompt_number": 57,
       "text": [
        "0.97499999999999998"
       ]
      }
     ],
     "prompt_number": 57
    },
    {
     "cell_type": "code",
     "collapsed": false,
     "input": [
      "xg, yg = np.meshgrid(np.linspace(-5,5,25), np.linspace(-5,5,25))\n",
      "xy = np.c_[xg.ravel(), yg.ravel()].T\n",
      "print xy.shape\n",
      "tNN.forward(xy, None)\n",
      "out = tNN.inputlist[-2]\n",
      "z = (-1*np.argmax(out,0))*np.max(out,0)\n",
      "plt.pcolor(xg, yg, z.reshape(25,25), cmap='Greys')"
     ],
     "language": "python",
     "metadata": {},
     "outputs": [
      {
       "output_type": "stream",
       "stream": "stdout",
       "text": [
        "(2, 625)\n"
       ]
      },
      {
       "metadata": {},
       "output_type": "pyout",
       "prompt_number": 96,
       "text": [
        "<matplotlib.collections.PolyCollection at 0x125191210>"
       ]
      },
      {
       "metadata": {},
       "output_type": "display_data",
       "png": "[encoded data removed]",
       "text": [
        "<matplotlib.figure.Figure at 0x124541a10>"
       ]
      }
     ],
     "prompt_number": 96
    },
    {
     "cell_type": "markdown",
     "metadata": {},
     "source": [
      "##Train on MNIST"
     ]
    },
    {
     "cell_type": "markdown",
     "metadata": {},
     "source": [
      "###ReLU network"
     ]
    },
    {
     "cell_type": "code",
     "collapsed": false,
     "input": [
      "weight_init = 'Ganguli'\n",
      "NN = Network()\n",
      "NN.layers = [Linear(784, 400, weight_init), ReLU(), Linear(400,10, weight_init), ReLU()] \n",
      "NN.criterion = CrossEntropyCriterion()\n",
      "NNp_init, _ = NN.getParameters()\n",
      "NN.training()"
     ],
     "language": "python",
     "metadata": {},
     "outputs": [],
     "prompt_number": 6
    },
    {
     "cell_type": "code",
     "collapsed": false,
     "input": [
      "SGDReLU = SGD(NN, train[0], train[1])\n",
      "SFOReLU = SFOmin(NN, train[0], train[1])"
     ],
     "language": "python",
     "metadata": {},
     "outputs": [],
     "prompt_number": 7
    },
    {
     "cell_type": "code",
     "collapsed": false,
     "input": [
      "SFOReLU.conv = 0.01\n",
      "SFOReLU.maxiters = 30\n",
      "SGDReLU.lr = 1E-3t"
     ],
     "language": "python",
     "metadata": {},
     "outputs": [],
     "prompt_number": 15
    },
    {
     "cell_type": "code",
     "collapsed": false,
     "input": [
      "print SFOReLU.optimizeToConv()"
     ],
     "language": "python",
     "metadata": {},
     "outputs": [
      {
       "output_type": "stream",
       "stream": "stdout",
       "text": [
        "10\n"
       ]
      }
     ],
     "prompt_number": 17
    },
    {
     "cell_type": "code",
     "collapsed": false,
     "input": [
      "plt.plot(SFOReLU.optimizer.hist_f_flat)"
     ],
     "language": "python",
     "metadata": {},
     "outputs": [
      {
       "metadata": {},
       "output_type": "pyout",
       "prompt_number": 18,
       "text": [
        "[<matplotlib.lines.Line2D at 0x104c4f710>]"
       ]
      },
      {
       "metadata": {},
       "output_type": "display_data",
       "png": "[encoded data removed]",
       "text": [
        "<matplotlib.figure.Figure at 0x10fc58290>"
       ]
      }
     ],
     "prompt_number": 18
    },
    {
     "cell_type": "markdown",
     "metadata": {},
     "source": [
      "####Evaluate Accuracy"
     ]
    },
    {
     "cell_type": "code",
     "collapsed": false,
     "input": [
      "totalcost = NN.forward(test2[0], test2[1])\n",
      "classes = np.argmax(NN.inputlist[-1], axis=0)\n",
      "accuracy = np.mean(classes == test2[1])\n",
      "print '{} is {}% Accurate'.format(NN, accuracy*100)"
     ],
     "language": "python",
     "metadata": {},
     "outputs": [
      {
       "output_type": "stream",
       "stream": "stdout",
       "text": [
        "<__main__.Network object at 0x10fbadd90> is 98.01% Accurate\n"
       ]
      }
     ],
     "prompt_number": 19
    },
    {
     "cell_type": "code",
     "collapsed": false,
     "input": [
      "with open('2Layer_ReLU_MNIST.pkl', 'wb') as outfile:\n",
      "    pickle.dump(NN, outfile, -1)"
     ],
     "language": "python",
     "metadata": {},
     "outputs": [],
     "prompt_number": 39
    },
    {
     "cell_type": "markdown",
     "metadata": {},
     "source": [
      "###Sigmoid Network"
     ]
    },
    {
     "cell_type": "code",
     "collapsed": false,
     "input": [
      "weight_init = 'PReLU'\n",
      "sigNN = Network()\n",
      "sigNN.layers = [Linear(784, 400, weight_init), Sigmoid(), Linear(400,10, weight_init), Sigmoid()] \n",
      "sigNN.criterion = CrossEntropyCriterion()\n",
      "initial_p, _ = sigNN.getParameters()"
     ],
     "language": "python",
     "metadata": {},
     "outputs": [],
     "prompt_number": 20
    },
    {
     "cell_type": "code",
     "collapsed": false,
     "input": [
      "SGDSig = SGD(sigNN, train[0], train[1])\n",
      "SFOSig = SFOmin(sigNN, train[0], train[1])"
     ],
     "language": "python",
     "metadata": {},
     "outputs": [],
     "prompt_number": 21
    },
    {
     "cell_type": "code",
     "collapsed": false,
     "input": [
      "SFOSig.conv = 0.01\n",
      "SFOSig.maxiters= 30"
     ],
     "language": "python",
     "metadata": {},
     "outputs": [],
     "prompt_number": 22
    },
    {
     "cell_type": "code",
     "collapsed": false,
     "input": [
      "print SFOSig.optimizeToConv()"
     ],
     "language": "python",
     "metadata": {},
     "outputs": [
      {
       "output_type": "stream",
       "stream": "stdout",
       "text": [
        "19\n"
       ]
      }
     ],
     "prompt_number": 26
    },
    {
     "cell_type": "code",
     "collapsed": false,
     "input": [
      "plt.plot(SFOSig.optimizer.hist_f_flat)"
     ],
     "language": "python",
     "metadata": {},
     "outputs": [
      {
       "metadata": {},
       "output_type": "pyout",
       "prompt_number": 27,
       "text": [
        "[<matplotlib.lines.Line2D at 0x11085c090>]"
       ]
      },
      {
       "metadata": {},
       "output_type": "display_data",
       "png": "[encoded data removed]",
       "text": [
        "<matplotlib.figure.Figure at 0x110ac7510>"
       ]
      }
     ],
     "prompt_number": 27
    },
    {
     "cell_type": "code",
     "collapsed": false,
     "input": [
      "sigNN.forward(test1[0], test1[1])\n",
      "sigaccuracy = np.mean(np.argmax(sigNN.inputlist[-1], axis=0)== test1[1])\n",
      "print 'Network is {}% Accurate'.format(sigaccuracy*100)"
     ],
     "language": "python",
     "metadata": {},
     "outputs": [
      {
       "output_type": "stream",
       "stream": "stdout",
       "text": [
        "Network is 97.24% Accurate\n"
       ]
      }
     ],
     "prompt_number": 28
    },
    {
     "cell_type": "code",
     "collapsed": false,
     "input": [
      "with open('2Layer_Sigmoid_MNIST.pkl', 'wb') as outfile:\n",
      "    pickle.dump(sigNN, outfile, -1)"
     ],
     "language": "python",
     "metadata": {},
     "outputs": [],
     "prompt_number": 41
    },
    {
     "cell_type": "markdown",
     "metadata": {},
     "source": [
      "##Randomized SVD"
     ]
    },
    {
     "cell_type": "code",
     "collapsed": false,
     "input": [
      "nparams = 500 #getJacobianRow(0).shape[0]\n",
      "nimages = 200 #len(test1[1])\n",
      "boo = np.random.randn(nimages, nparams)\n",
      "doo = boo.dot(np.random.randn(nparams, nparams))\n",
      "foo = doo.dot(np.random.randn(nparams, nparams))/1E3\n",
      "ru, rs, rvt = sp.linalg.svd(foo)"
     ],
     "language": "python",
     "metadata": {},
     "outputs": [],
     "prompt_number": 45
    },
    {
     "cell_type": "code",
     "collapsed": false,
     "input": [
      "u, s, vt = streamRandomSVD(lambda n: foo[n], 120, q=1, row_slice=range(foo.shape[0]))\n",
      "plt.plot((rs[:len(s)]-s)/rs[:len(s)])\n",
      "plt.figure()\n",
      "plt.plot(rs)\n",
      "plt.plot(s)"
     ],
     "language": "python",
     "metadata": {},
     "outputs": [
      {
       "metadata": {},
       "output_type": "pyout",
       "prompt_number": 48,
       "text": [
        "[<matplotlib.lines.Line2D at 0x119180950>]"
       ]
      },
      {
       "metadata": {},
       "output_type": "display_data",
       "png": "[encoded data removed]",
       "text": [
        "<matplotlib.figure.Figure at 0x118cce750>"
       ]
      },
      {
       "metadata": {},
       "output_type": "display_data",
       "png": "[encoded data removed]",
       "text": [
        "<matplotlib.figure.Figure at 0x110294050>"
       ]
      }
     ],
     "prompt_number": 48
    },
    {
     "cell_type": "code",
     "collapsed": false,
     "input": [
      "def getJacobianRow(n, network = sigNN, data=test1):\n",
      "    network.forward(data[0][:,n], data[1][n])\n",
      "    network.zeroGradParameters()\n",
      "    network.backward()\n",
      "    _, gp = sigNN.getParameters()\n",
      "    return gp"
     ],
     "language": "python",
     "metadata": {},
     "outputs": [],
     "prompt_number": 34
    },
    {
     "cell_type": "code",
     "collapsed": false,
     "input": [
      "#sigSVD = streamRandomSVD(getJacobianRow, k=4, q=1, streamlength=4)"
     ],
     "language": "python",
     "metadata": {},
     "outputs": [],
     "prompt_number": 43
    },
    {
     "cell_type": "code",
     "collapsed": false,
     "input": [],
     "language": "python",
     "metadata": {},
     "outputs": []
    }
   ],
   "metadata": {}
  }
 ]
}