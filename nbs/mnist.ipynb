{
 "metadata": {
  "name": "",
  "signature": "sha256:392b232e3658cfcb84cec0a2e2fe0c5147b3d12efe50b781d9a8ad5d7c1fc2ee"
 },
 "nbformat": 3,
 "nbformat_minor": 0,
 "worksheets": [
  {
   "cells": [
    {
     "cell_type": "code",
     "collapsed": false,
     "input": [
      "import numpy as np\n",
      "import scipy as sp\n",
      "import matplotlib.pyplot as plt\n",
      "%matplotlib inline"
     ],
     "language": "python",
     "metadata": {},
     "outputs": [],
     "prompt_number": 1
    },
    {
     "cell_type": "code",
     "collapsed": false,
     "input": [
      "%run ../layers.py\n",
      "%run ../criterion.py\n",
      "%run ../network.py"
     ],
     "language": "python",
     "metadata": {},
     "outputs": [],
     "prompt_number": 2
    },
    {
     "cell_type": "markdown",
     "metadata": {},
     "source": [
      "# Get MNist Data"
     ]
    },
    {
     "cell_type": "code",
     "collapsed": false,
     "input": [
      "# Download the MNIST DATA\n",
      "\n",
      "!wget -P/tmp http://deeplearning.net/data/mnist/mnist.pkl.gz"
     ],
     "language": "python",
     "metadata": {},
     "outputs": [
      {
       "output_type": "stream",
       "stream": "stdout",
       "text": [
        "--2015-03-12 16:41:42--  http://deeplearning.net/data/mnist/mnist.pkl.gz\r\n",
        "Resolving deeplearning.net (deeplearning.net)... 132.204.26.28\r\n",
        "Connecting to deeplearning.net (deeplearning.net)|132.204.26.28|:80... "
       ]
      },
      {
       "output_type": "stream",
       "stream": "stdout",
       "text": [
        "connected.\r\n",
        "HTTP request sent, awaiting response... 200 OK\r\n",
        "Length: 16168813 (15M) [application/x-gzip]\r\n",
        "Saving to: \u2018/tmp/mnist.pkl.gz\u2019\r\n",
        "\r\n",
        "\r",
        " 0% [                                       ] 0           --.-K/s              "
       ]
      },
      {
       "output_type": "stream",
       "stream": "stdout",
       "text": [
        "\r",
        " 1% [                                       ] 274,680     1.25MB/s             "
       ]
      },
      {
       "output_type": "stream",
       "stream": "stdout",
       "text": [
        "\r",
        " 6% [=>                                     ] 975,096     2.22MB/s             "
       ]
      },
      {
       "output_type": "stream",
       "stream": "stdout",
       "text": [
        "\r",
        "15% [====>                                  ] 2,463,480   3.72MB/s             "
       ]
      },
      {
       "output_type": "stream",
       "stream": "stdout",
       "text": [
        "\r",
        "35% [============>                          ] 5,754,888   6.53MB/s             "
       ]
      },
      {
       "output_type": "stream",
       "stream": "stdout",
       "text": [
        "\r",
        "79% [=============================>         ] 12,849,336  11.7MB/s             "
       ]
      },
      {
       "output_type": "stream",
       "stream": "stdout",
       "text": [
        "\r",
        "100%[======================================>] 16,168,813  13.8MB/s   in 1.1s   \r\n",
        "\r\n",
        "2015-03-12 16:41:43 (13.8 MB/s) - \u2018/tmp/mnist.pkl.gz\u2019 saved [16168813/16168813]\r\n",
        "\r\n"
       ]
      }
     ],
     "prompt_number": 5
    },
    {
     "cell_type": "code",
     "collapsed": false,
     "input": [
      "import gzip\n",
      "import cPickle as pickle\n",
      "\n",
      "# Load the dataset\n",
      "with gzip.open(\"/tmp/mnist.pkl.gz\", \"rb\") as f:\n",
      "    train_set, valid_set, test_set = pickle.load(f)"
     ],
     "language": "python",
     "metadata": {},
     "outputs": [],
     "prompt_number": 3
    },
    {
     "cell_type": "markdown",
     "metadata": {},
     "source": [
      "# Network"
     ]
    },
    {
     "cell_type": "code",
     "collapsed": false,
     "input": [
      "Q = Network()\n",
      "Q.criterion = NLLCriterion()\n",
      "Q.layers = [ Linear(784, 500), ReLu(), Linear(500,10), ReLu(), LogSoftMax()]"
     ],
     "language": "python",
     "metadata": {},
     "outputs": [],
     "prompt_number": 4
    },
    {
     "cell_type": "code",
     "collapsed": false,
     "input": [
      "pk = 0"
     ],
     "language": "python",
     "metadata": {},
     "outputs": [],
     "prompt_number": 5
    },
    {
     "cell_type": "code",
     "collapsed": false,
     "input": [
      "mini_batch = 200\n",
      "shuf = np.random.permutation(train_set[0].shape[0])\n",
      "\n",
      "vals = []\n",
      "\n",
      "for i in xrange(100):\n",
      "    pk = ( pk + 1 ) % ( train_set[0].shape[0]//mini_batch )\n",
      "    X = train_set[0][shuf][mini_batch*pk:mini_batch*(pk+1)].T\n",
      "    y = train_set[1][shuf][mini_batch*pk:mini_batch*(pk+1)]\n",
      "    vals.append( Q.train(X,y,0.01) )\n",
      "\n",
      "plt.plot(vals)"
     ],
     "language": "python",
     "metadata": {},
     "outputs": [
      {
       "metadata": {},
       "output_type": "pyout",
       "prompt_number": 27,
       "text": [
        "[<matplotlib.lines.Line2D at 0x7f576173fc90>]"
       ]
      },
      {
       "metadata": {},
       "output_type": "display_data",
       "png": "[encoded data removed]",
       "text": [
        "<matplotlib.figure.Figure at 0x7f57615c6a10>"
       ]
      }
     ],
     "prompt_number": 27
    },
    {
     "cell_type": "code",
     "collapsed": false,
     "input": [
      "Xt = test_set[0].T\n",
      "yt = test_set[1]\n",
      "\n",
      "out = Q.forward(Xt, yt).mean()\n",
      "print out, (Q.layers[-1].output.argmax(0) == yt).mean()"
     ],
     "language": "python",
     "metadata": {},
     "outputs": [
      {
       "output_type": "stream",
       "stream": "stdout",
       "text": [
        "1.38342931225 0.6691\n"
       ]
      }
     ],
     "prompt_number": 28
    },
    {
     "cell_type": "code",
     "collapsed": false,
     "input": [
      "dude = 2\n",
      "Xt = test_set[0].T[:,dude][:,None]\n",
      "yt = np.array([test_set[1][dude]])\n",
      "\n",
      "Q.train(Xt, yt, 0.0)"
     ],
     "language": "python",
     "metadata": {},
     "outputs": [
      {
       "metadata": {},
       "output_type": "pyout",
       "prompt_number": 13,
       "text": [
        "2.0217545275917632"
       ]
      }
     ],
     "prompt_number": 13
    },
    {
     "cell_type": "code",
     "collapsed": false,
     "input": [
      "plt.imshow( Xt.reshape((28,28)), cmap='cubehelix', interpolation='none', origin='upper');"
     ],
     "language": "python",
     "metadata": {},
     "outputs": [
      {
       "metadata": {},
       "output_type": "display_data",
       "png": "[encoded data removed]",
       "text": [
        "<matplotlib.figure.Figure at 0x7f57611cfb50>"
       ]
      }
     ],
     "prompt_number": 14
    },
    {
     "cell_type": "code",
     "collapsed": false,
     "input": [
      "plt.plot( sorted( np.abs(Q.layers[0].grad_input.ravel()) , reverse=True) )"
     ],
     "language": "python",
     "metadata": {},
     "outputs": [
      {
       "metadata": {},
       "output_type": "pyout",
       "prompt_number": 10,
       "text": [
        "[<matplotlib.lines.Line2D at 0x7f5761cb9a90>]"
       ]
      },
      {
       "metadata": {},
       "output_type": "display_data",
       "png": "[encoded data removed]",
       "text": [
        "<matplotlib.figure.Figure at 0x7f5761c52990>"
       ]
      }
     ],
     "prompt_number": 10
    },
    {
     "cell_type": "code",
     "collapsed": false,
     "input": [
      "allblah = []\n",
      "\n",
      "for i in xrange(50):\n",
      "    dude = i\n",
      "    Xt = test_set[0].T[:,dude][:,None]\n",
      "    yt = np.array([test_set[1][dude]])\n",
      "\n",
      "    Q.train(Xt, yt, 0.0)\n",
      "    blah = []\n",
      "\n",
      "    for l in Q.layers:\n",
      "        ps, gps = l.parameters()\n",
      "        for gp in gps:\n",
      "            print gp.shape\n",
      "            blah = blah + gp.ravel().tolist()"
     ],
     "language": "python",
     "metadata": {},
     "outputs": [
      {
       "output_type": "stream",
       "stream": "stdout",
       "text": [
        "(500, 784)\n",
        "(500,)\n",
        "(10, 500)\n",
        "(10,)\n",
        "(500, 784)"
       ]
      },
      {
       "output_type": "stream",
       "stream": "stdout",
       "text": [
        "\n",
        "(500,)\n",
        "(10, 500)\n",
        "(10,)\n",
        "(500, 784)\n",
        "(500,)"
       ]
      },
      {
       "output_type": "stream",
       "stream": "stdout",
       "text": [
        "\n",
        "(10, 500)\n",
        "(10,)\n",
        "(500, 784)\n",
        "(500,)\n",
        "(10, 500)"
       ]
      },
      {
       "output_type": "stream",
       "stream": "stdout",
       "text": [
        "\n",
        "(10,)\n",
        "(500, 784)\n",
        "(500,)\n",
        "(10, 500)\n",
        "(10,)"
       ]
      },
      {
       "output_type": "stream",
       "stream": "stdout",
       "text": [
        "\n",
        "(500, 784)\n",
        "(500,)\n",
        "(10, 500)\n",
        "(10,)\n",
        "(500, 784)"
       ]
      },
      {
       "output_type": "stream",
       "stream": "stdout",
       "text": [
        "\n",
        "(500,)\n",
        "(10, 500)\n",
        "(10,)\n",
        "(500, 784)\n",
        "(500,)"
       ]
      },
      {
       "output_type": "stream",
       "stream": "stdout",
       "text": [
        "\n",
        "(10, 500)\n",
        "(10,)\n",
        "(500, 784)\n",
        "(500,)\n",
        "(10, 500)"
       ]
      },
      {
       "output_type": "stream",
       "stream": "stdout",
       "text": [
        "\n",
        "(10,)\n",
        "(500, 784)\n",
        "(500,)\n",
        "(10, 500)\n",
        "(10,)"
       ]
      },
      {
       "output_type": "stream",
       "stream": "stdout",
       "text": [
        "\n",
        "(500, 784)\n",
        "(500,)\n",
        "(10, 500)\n",
        "(10,)\n",
        "(500, 784)"
       ]
      },
      {
       "output_type": "stream",
       "stream": "stdout",
       "text": [
        "\n",
        "(500,)\n",
        "(10, 500)\n",
        "(10,)\n",
        "(500, 784)\n",
        "(500,)"
       ]
      },
      {
       "output_type": "stream",
       "stream": "stdout",
       "text": [
        "\n",
        "(10, 500)\n",
        "(10,)\n",
        "(500, 784)\n",
        "(500,)\n",
        "(10, 500)"
       ]
      },
      {
       "output_type": "stream",
       "stream": "stdout",
       "text": [
        "\n",
        "(10,)\n",
        "(500, 784)\n",
        "(500,)\n",
        "(10, 500)\n",
        "(10,)"
       ]
      },
      {
       "output_type": "stream",
       "stream": "stdout",
       "text": [
        "\n",
        "(500, 784)\n",
        "(500,)\n",
        "(10, 500)\n",
        "(10,)\n",
        "(500, 784)"
       ]
      },
      {
       "output_type": "stream",
       "stream": "stdout",
       "text": [
        "\n",
        "(500,)\n",
        "(10, 500)\n",
        "(10,)\n",
        "(500, 784)\n",
        "(500,)"
       ]
      },
      {
       "output_type": "stream",
       "stream": "stdout",
       "text": [
        "\n",
        "(10, 500)\n",
        "(10,)\n",
        "(500, 784)\n",
        "(500,)\n",
        "(10, 500)"
       ]
      },
      {
       "output_type": "stream",
       "stream": "stdout",
       "text": [
        "\n",
        "(10,)\n",
        "(500, 784)\n",
        "(500,)\n",
        "(10, 500)\n",
        "(10,)"
       ]
      },
      {
       "output_type": "stream",
       "stream": "stdout",
       "text": [
        "\n",
        "(500, 784)\n",
        "(500,)\n",
        "(10, 500)\n",
        "(10,)\n",
        "(500, 784)"
       ]
      },
      {
       "output_type": "stream",
       "stream": "stdout",
       "text": [
        "\n",
        "(500,)\n",
        "(10, 500)\n",
        "(10,)\n",
        "(500, 784)\n",
        "(500,)"
       ]
      },
      {
       "output_type": "stream",
       "stream": "stdout",
       "text": [
        "\n",
        "(10, 500)\n",
        "(10,)\n",
        "(500, 784)\n",
        "(500,)\n",
        "(10, 500)"
       ]
      },
      {
       "output_type": "stream",
       "stream": "stdout",
       "text": [
        "\n",
        "(10,)\n",
        "(500, 784)\n",
        "(500,)\n",
        "(10, 500)\n",
        "(10,)"
       ]
      },
      {
       "output_type": "stream",
       "stream": "stdout",
       "text": [
        "\n",
        "(500, 784)\n",
        "(500,)\n",
        "(10, 500)\n",
        "(10,)\n",
        "(500, 784)"
       ]
      },
      {
       "output_type": "stream",
       "stream": "stdout",
       "text": [
        "\n",
        "(500,)\n",
        "(10, 500)\n",
        "(10,)\n",
        "(500, 784)\n",
        "(500,)"
       ]
      },
      {
       "output_type": "stream",
       "stream": "stdout",
       "text": [
        "\n",
        "(10, 500)\n",
        "(10,)\n",
        "(500, 784)\n",
        "(500,)\n",
        "(10, 500)"
       ]
      },
      {
       "output_type": "stream",
       "stream": "stdout",
       "text": [
        "\n",
        "(10,)\n",
        "(500, 784)\n",
        "(500,)\n",
        "(10, 500)\n",
        "(10,)"
       ]
      },
      {
       "output_type": "stream",
       "stream": "stdout",
       "text": [
        "\n",
        "(500, 784)\n",
        "(500,)\n",
        "(10, 500)\n",
        "(10,)\n",
        "(500, 784)"
       ]
      },
      {
       "output_type": "stream",
       "stream": "stdout",
       "text": [
        "\n",
        "(500,)\n",
        "(10, 500)\n",
        "(10,)\n",
        "(500, 784)\n",
        "(500,)"
       ]
      },
      {
       "output_type": "stream",
       "stream": "stdout",
       "text": [
        "\n",
        "(10, 500)\n",
        "(10,)\n",
        "(500, 784)\n",
        "(500,)\n",
        "(10, 500)"
       ]
      },
      {
       "output_type": "stream",
       "stream": "stdout",
       "text": [
        "\n",
        "(10,)\n",
        "(500, 784)\n",
        "(500,)\n",
        "(10, 500)\n",
        "(10,)"
       ]
      },
      {
       "output_type": "stream",
       "stream": "stdout",
       "text": [
        "\n",
        "(500, 784)\n",
        "(500,)\n",
        "(10, 500)\n",
        "(10,)\n",
        "(500, 784)"
       ]
      },
      {
       "output_type": "stream",
       "stream": "stdout",
       "text": [
        "\n",
        "(500,)\n",
        "(10, 500)\n",
        "(10,)\n",
        "(500, 784)\n",
        "(500,)"
       ]
      },
      {
       "output_type": "stream",
       "stream": "stdout",
       "text": [
        "\n",
        "(10, 500)\n",
        "(10,)\n",
        "(500, 784)\n",
        "(500,)\n",
        "(10, 500)"
       ]
      },
      {
       "output_type": "stream",
       "stream": "stdout",
       "text": [
        "\n",
        "(10,)\n",
        "(500, 784)\n",
        "(500,)\n",
        "(10, 500)\n",
        "(10,)"
       ]
      },
      {
       "output_type": "stream",
       "stream": "stdout",
       "text": [
        "\n",
        "(500, 784)\n",
        "(500,)\n",
        "(10, 500)\n",
        "(10,)\n",
        "(500, 784)"
       ]
      },
      {
       "output_type": "stream",
       "stream": "stdout",
       "text": [
        "\n",
        "(500,)\n",
        "(10, 500)\n",
        "(10,)\n",
        "(500, 784)\n",
        "(500,)"
       ]
      },
      {
       "output_type": "stream",
       "stream": "stdout",
       "text": [
        "\n",
        "(10, 500)\n",
        "(10,)\n",
        "(500, 784)\n",
        "(500,)\n",
        "(10, 500)"
       ]
      },
      {
       "output_type": "stream",
       "stream": "stdout",
       "text": [
        "\n",
        "(10,)\n",
        "(500, 784)\n",
        "(500,)\n",
        "(10, 500)\n",
        "(10,)"
       ]
      },
      {
       "output_type": "stream",
       "stream": "stdout",
       "text": [
        "\n",
        "(500, 784)\n",
        "(500,)\n",
        "(10, 500)\n",
        "(10,)\n",
        "(500, 784)"
       ]
      },
      {
       "output_type": "stream",
       "stream": "stdout",
       "text": [
        "\n",
        "(500,)\n",
        "(10, 500)\n",
        "(10,)\n",
        "(500, 784)\n",
        "(500,)"
       ]
      },
      {
       "output_type": "stream",
       "stream": "stdout",
       "text": [
        "\n",
        "(10, 500)\n",
        "(10,)\n",
        "(500, 784)\n",
        "(500,)"
       ]
      },
      {
       "output_type": "stream",
       "stream": "stdout",
       "text": [
        "\n",
        "(10, 500)\n",
        "(10,)\n",
        "(500, 784)\n",
        "(500,)\n",
        "(10, 500)"
       ]
      },
      {
       "output_type": "stream",
       "stream": "stdout",
       "text": [
        "\n",
        "(10,)\n"
       ]
      }
     ],
     "prompt_number": 11
    },
    {
     "cell_type": "code",
     "collapsed": false,
     "input": [
      "plt.loglog( sorted( np.abs(blah), reverse=True ) );"
     ],
     "language": "python",
     "metadata": {},
     "outputs": [
      {
       "metadata": {},
       "output_type": "display_data",
       "png": "[encoded data removed]",
       "text": [
        "<matplotlib.figure.Figure at 0x7f5761cce990>"
       ]
      }
     ],
     "prompt_number": 12
    },
    {
     "cell_type": "code",
     "collapsed": false,
     "input": [],
     "language": "python",
     "metadata": {},
     "outputs": []
    }
   ],
   "metadata": {}
  }
 ]
}